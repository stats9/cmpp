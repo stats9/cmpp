{
 "cells": [
  {
   "cell_type": "code",
   "execution_count": 1,
   "metadata": {},
   "outputs": [],
   "source": [
    "from sympy import *\n",
    "import numpy as np"
   ]
  },
  {
   "cell_type": "code",
   "execution_count": 3,
   "metadata": {},
   "outputs": [],
   "source": [
    "from sympy import *\n",
    "import numpy as np \n",
    "\n",
    "# Define p as a symbolic parameter\n",
    "p = symbols('p', integer=True)\n",
    "\n",
    "# Define MatrixSymbols for Beta and Z with symbolic dimensions\n",
    "Beta = MatrixSymbol('Beta', p, 1)\n",
    "Z = MatrixSymbol('Z', p, 1)\n",
    "\n",
    "r = symbols('rho', negative=True, real=True)\n",
    "k = symbols('kappa', real=True)\n",
    "tau = symbols('tau', real = True)\n",
    "alpha = symbols('alpha', real = True)\n",
    "rho = symbols('rho', real = True)\n",
    "t = symbols('t', positive=True)\n",
    "\n",
    "# Scalar expression for Ht\n",
    "Ht = k / r * (exp(r * t) - 1)\n",
    "\n",
    "# Matrix product Z^T * Beta\n",
    "temp = MatMul(Z.T, Beta)\n",
    "\n",
    "# Extract scalar from the matrix product if valid (e.g., Trace)\n",
    "scalar_temp = temp[0]  # assuming it's a 1x1 matrix\n",
    "\n",
    "# Now use the scalar part in F1\n",
    "F1 = (Ht * exp(scalar_temp)) / (1 + Ht * exp(scalar_temp))\n",
    "F2 = 1 - exp(-Ht * exp(scalar_temp))\n",
    "uk = tau * (exp(rho * t)-1)/rho\n",
    "F0 = 1 - (1 + alpha * exp(scalar_temp) * uk) ** (-1/alpha)"
   ]
  },
  {
   "cell_type": "code",
   "execution_count": 4,
   "metadata": {},
   "outputs": [
    {
     "name": "stdout",
     "output_type": "stream",
     "text": [
      "H(t): \n"
     ]
    },
    {
     "data": {
      "text/latex": [
       "$\\displaystyle \\frac{\\kappa \\left(e^{\\rho t} - 1\\right)}{\\rho}$"
      ],
      "text/plain": [
       "kappa*(exp(rho*t) - 1)/rho"
      ]
     },
     "execution_count": 4,
     "metadata": {},
     "output_type": "execute_result"
    }
   ],
   "source": [
    "print(\"H(t): \")\n",
    "Ht"
   ]
  },
  {
   "cell_type": "code",
   "execution_count": 5,
   "metadata": {},
   "outputs": [
    {
     "name": "stdout",
     "output_type": "stream",
     "text": [
      "FK1: \n"
     ]
    },
    {
     "data": {
      "text/latex": [
       "$\\displaystyle \\frac{\\kappa \\left(e^{\\rho t} - 1\\right) e^{\\sum_{i_{1}=0}^{p - 1} {\\mathrm{B}}_{i_{1},0} {Z}_{i_{1},0}}}{\\rho \\left(\\frac{\\kappa \\left(e^{\\rho t} - 1\\right) e^{\\sum_{i_{1}=0}^{p - 1} {\\mathrm{B}}_{i_{1},0} {Z}_{i_{1},0}}}{\\rho} + 1\\right)}$"
      ],
      "text/plain": [
       "kappa*(exp(rho*t) - 1)*exp(Sum(Beta[_i_1, 0]*Z[_i_1, 0], (_i_1, 0, p - 1)))/(rho*(kappa*(exp(rho*t) - 1)*exp(Sum(Beta[_i_1, 0]*Z[_i_1, 0], (_i_1, 0, p - 1)))/rho + 1))"
      ]
     },
     "execution_count": 5,
     "metadata": {},
     "output_type": "execute_result"
    }
   ],
   "source": [
    "print('FK1: ')\n",
    "F1"
   ]
  },
  {
   "cell_type": "code",
   "execution_count": 6,
   "metadata": {},
   "outputs": [
    {
     "name": "stdout",
     "output_type": "stream",
     "text": [
      "Fk2: \n"
     ]
    },
    {
     "data": {
      "text/latex": [
       "$\\displaystyle 1 - e^{- \\frac{\\kappa \\left(e^{\\rho t} - 1\\right) e^{\\sum_{i_{1}=0}^{p - 1} {\\mathrm{B}}_{i_{1},0} {Z}_{i_{1},0}}}{\\rho}}$"
      ],
      "text/plain": [
       "1 - exp(-kappa*(exp(rho*t) - 1)*exp(Sum(Beta[_i_1, 0]*Z[_i_1, 0], (_i_1, 0, p - 1)))/rho)"
      ]
     },
     "execution_count": 6,
     "metadata": {},
     "output_type": "execute_result"
    }
   ],
   "source": [
    "print('Fk2: ')\n",
    "F2"
   ]
  },
  {
   "cell_type": "code",
   "execution_count": 7,
   "metadata": {},
   "outputs": [
    {
     "name": "stdout",
     "output_type": "stream",
     "text": [
      "Fk0: \n"
     ]
    },
    {
     "data": {
      "text/latex": [
       "$\\displaystyle 1 - \\left(\\frac{\\alpha \\tau \\left(e^{\\rho t} - 1\\right) e^{\\sum_{i_{1}=0}^{p - 1} {\\mathrm{B}}_{i_{1},0} {Z}_{i_{1},0}}}{\\rho} + 1\\right)^{- \\frac{1}{\\alpha}}$"
      ],
      "text/plain": [
       "1 - 1/(alpha*tau*(exp(rho*t) - 1)*exp(Sum(Beta[_i_1, 0]*Z[_i_1, 0], (_i_1, 0, p - 1)))/rho + 1)**(1/alpha)"
      ]
     },
     "execution_count": 7,
     "metadata": {},
     "output_type": "execute_result"
    }
   ],
   "source": [
    "print('Fk0: ')\n",
    "F0"
   ]
  },
  {
   "cell_type": "code",
   "execution_count": 10,
   "metadata": {},
   "outputs": [],
   "source": [
    "f0 = diff(F0, t)\n",
    "f1 = diff(F1, t)\n",
    "f2 = diff(F2, t)"
   ]
  },
  {
   "cell_type": "code",
   "execution_count": 11,
   "metadata": {},
   "outputs": [
    {
     "name": "stdout",
     "output_type": "stream",
     "text": [
      "fK1: \n"
     ]
    },
    {
     "data": {
      "text/latex": [
       "$\\displaystyle - \\frac{\\kappa^{2} \\left(e^{\\rho t} - 1\\right) e^{\\rho t} e^{2 \\sum_{i_{1}=0}^{p - 1} {\\mathrm{B}}_{i_{1},0} {Z}_{i_{1},0}}}{\\rho \\left(\\frac{\\kappa \\left(e^{\\rho t} - 1\\right) e^{\\sum_{i_{1}=0}^{p - 1} {\\mathrm{B}}_{i_{1},0} {Z}_{i_{1},0}}}{\\rho} + 1\\right)^{2}} + \\frac{\\kappa e^{\\rho t} e^{\\sum_{i_{1}=0}^{p - 1} {\\mathrm{B}}_{i_{1},0} {Z}_{i_{1},0}}}{\\frac{\\kappa \\left(e^{\\rho t} - 1\\right) e^{\\sum_{i_{1}=0}^{p - 1} {\\mathrm{B}}_{i_{1},0} {Z}_{i_{1},0}}}{\\rho} + 1}$"
      ],
      "text/plain": [
       "-kappa**2*(exp(rho*t) - 1)*exp(rho*t)*exp(2*Sum(Beta[_i_1, 0]*Z[_i_1, 0], (_i_1, 0, p - 1)))/(rho*(kappa*(exp(rho*t) - 1)*exp(Sum(Beta[_i_1, 0]*Z[_i_1, 0], (_i_1, 0, p - 1)))/rho + 1)**2) + kappa*exp(rho*t)*exp(Sum(Beta[_i_1, 0]*Z[_i_1, 0], (_i_1, 0, p - 1)))/(kappa*(exp(rho*t) - 1)*exp(Sum(Beta[_i_1, 0]*Z[_i_1, 0], (_i_1, 0, p - 1)))/rho + 1)"
      ]
     },
     "execution_count": 11,
     "metadata": {},
     "output_type": "execute_result"
    }
   ],
   "source": [
    "print('fK1: ')\n",
    "f1"
   ]
  },
  {
   "cell_type": "code",
   "execution_count": 12,
   "metadata": {},
   "outputs": [
    {
     "name": "stdout",
     "output_type": "stream",
     "text": [
      "fK2: \n"
     ]
    },
    {
     "data": {
      "text/latex": [
       "$\\displaystyle \\kappa e^{\\rho t} \\left(e^{- \\frac{\\kappa \\left(e^{\\rho t} - 1\\right) e^{\\sum_{i_{1}=0}^{p - 1} {\\mathrm{B}}_{i_{1},0} {Z}_{i_{1},0}}}{\\rho}}\\right) e^{\\sum_{i_{1}=0}^{p - 1} {\\mathrm{B}}_{i_{1},0} {Z}_{i_{1},0}}$"
      ],
      "text/plain": [
       "kappa*exp(rho*t)*exp(-kappa*(exp(rho*t) - 1)*exp(Sum(Beta[_i_1, 0]*Z[_i_1, 0], (_i_1, 0, p - 1)))/rho)*exp(Sum(Beta[_i_1, 0]*Z[_i_1, 0], (_i_1, 0, p - 1)))"
      ]
     },
     "execution_count": 12,
     "metadata": {},
     "output_type": "execute_result"
    }
   ],
   "source": [
    "print('fK2: ')\n",
    "f2"
   ]
  },
  {
   "cell_type": "code",
   "execution_count": 13,
   "metadata": {},
   "outputs": [
    {
     "name": "stdout",
     "output_type": "stream",
     "text": [
      "fK0: \n"
     ]
    },
    {
     "data": {
      "text/latex": [
       "$\\displaystyle \\frac{\\tau \\left(\\left(\\frac{\\alpha \\tau \\left(e^{\\rho t} - 1\\right) e^{\\sum_{i_{1}=0}^{p - 1} {\\mathrm{B}}_{i_{1},0} {Z}_{i_{1},0}}}{\\rho} + 1\\right)^{- \\frac{1}{\\alpha}}\\right) e^{\\rho t} e^{\\sum_{i_{1}=0}^{p - 1} {\\mathrm{B}}_{i_{1},0} {Z}_{i_{1},0}}}{\\frac{\\alpha \\tau \\left(e^{\\rho t} - 1\\right) e^{\\sum_{i_{1}=0}^{p - 1} {\\mathrm{B}}_{i_{1},0} {Z}_{i_{1},0}}}{\\rho} + 1}$"
      ],
      "text/plain": [
       "tau*exp(rho*t)*exp(Sum(Beta[_i_1, 0]*Z[_i_1, 0], (_i_1, 0, p - 1)))/((alpha*tau*(exp(rho*t) - 1)*exp(Sum(Beta[_i_1, 0]*Z[_i_1, 0], (_i_1, 0, p - 1)))/rho + 1)*(alpha*tau*(exp(rho*t) - 1)*exp(Sum(Beta[_i_1, 0]*Z[_i_1, 0], (_i_1, 0, p - 1)))/rho + 1)**(1/alpha))"
      ]
     },
     "execution_count": 13,
     "metadata": {},
     "output_type": "execute_result"
    }
   ],
   "source": [
    "print('fK0: ')\n",
    "f0"
   ]
  }
 ],
 "metadata": {
  "kernelspec": {
   "display_name": "Python 3",
   "language": "python",
   "name": "python3"
  },
  "language_info": {
   "codemirror_mode": {
    "name": "ipython",
    "version": 3
   },
   "file_extension": ".py",
   "mimetype": "text/x-python",
   "name": "python",
   "nbconvert_exporter": "python",
   "pygments_lexer": "ipython3",
   "version": "3.12.7"
  }
 },
 "nbformat": 4,
 "nbformat_minor": 2
}
